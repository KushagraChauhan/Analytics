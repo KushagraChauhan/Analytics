{
 "cells": [
  {
   "cell_type": "markdown",
   "metadata": {},
   "source": [
    "This notebook contains code to be used for the purpose of Web Analytics."
   ]
  },
  {
   "cell_type": "markdown",
   "metadata": {},
   "source": [
    "1. Get the Location of the users from their IP Address.\n",
    "\n",
    "----\n",
    "\n",
    "Download the: GeoLite2 dataset\n",
    "\n",
    "\n",
    "pip3 install geoip2"
   ]
  },
  {
   "cell_type": "code",
   "execution_count": 1,
   "metadata": {
    "scrolled": true
   },
   "outputs": [],
   "source": [
    "import geoip2.database as geo\n",
    "def getCountry(ip):\n",
    "    reader = geo.Reader(\"ipdata/GeoLite2-Country.mmdb\")\n",
    "    response = reader.country(ip)\n",
    "    return response.country.name\n",
    "def getCity(ip):\n",
    "    reader = geo.Reader(\"ipdata/GeoLite2-City.mmdb\")\n",
    "    response = reader.city(ip)\n",
    "    return response.city.name"
   ]
  },
  {
   "cell_type": "code",
   "execution_count": 2,
   "metadata": {},
   "outputs": [
    {
     "name": "stdout",
     "output_type": "stream",
     "text": [
      "City- Greater Noida, Country- India\n"
     ]
    }
   ],
   "source": [
    "'''Location of the user'''\n",
    "ip = '45.122.120.193'\n",
    "print('City- ' + getCity(ip) + ', Country- '+ getCountry(ip))"
   ]
  },
  {
   "cell_type": "markdown",
   "metadata": {},
   "source": []
  }
 ],
 "metadata": {
  "kernelspec": {
   "display_name": "Python 3",
   "language": "python",
   "name": "python3"
  },
  "language_info": {
   "codemirror_mode": {
    "name": "ipython",
    "version": 3
   },
   "file_extension": ".py",
   "mimetype": "text/x-python",
   "name": "python",
   "nbconvert_exporter": "python",
   "pygments_lexer": "ipython3",
   "version": "3.6.9"
  }
 },
 "nbformat": 4,
 "nbformat_minor": 4
}
